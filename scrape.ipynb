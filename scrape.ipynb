{
 "cells": [
  {
   "cell_type": "code",
   "execution_count": 92,
   "metadata": {},
   "outputs": [],
   "source": [
    "import os\n",
    "from selenium import webdriver\n",
    "from bs4 import BeautifulSoup\n",
    "import time\n",
    "import csv\n",
    "import pandas as pd"
   ]
  },
  {
   "cell_type": "code",
   "execution_count": 94,
   "metadata": {},
   "outputs": [
    {
     "name": "stdout",
     "output_type": "stream",
     "text": [
      "pop-up closed\n",
      "Task completed\n"
     ]
    }
   ],
   "source": [
    "class Scraper():\n",
    "    \n",
    "    def __init__(self):\n",
    "    \n",
    "        self.url = 'https://www.flipkart.com'\n",
    "        self.driver = webdriver.Chrome('/Users/Aman/Downloads/chromedriver')\n",
    "        \n",
    "    def search(self):\n",
    "        self.driver.get(self.url)\n",
    "        try:\n",
    "            login_pop = self.driver.find_element_by_class_name('_29YdH8')\n",
    "            login_pop.click()\n",
    "            print('pop-up closed')\n",
    "        except:\n",
    "            pass\n",
    "        search_field = self.driver.find_element_by_class_name('LM6RPg')\n",
    "        search_field.send_keys('smartphone'+ '\\n')\n",
    "        time.sleep(2)\n",
    "        page_html = self.driver.page_source\n",
    "        self.soup = BeautifulSoup(page_html,'html.parser')\n",
    "        \n",
    "    def create_csv_file(self):\n",
    "        rowHeaders=[\"Name\",\"Storage_details\",\"Screen_size\",\"Camera_details\",\"Battery_details\",\"Processor\", \"Price in Rupees\"]\n",
    "        self.file_csv = open('Flipkart_output.csv', 'w', newline='', encoding='utf-8')\n",
    "        self.mycsv = csv.DictWriter(self.file_csv, fieldnames=rowHeaders)\n",
    "        self.mycsv.writeheader()\n",
    "        \n",
    "    def scrapeSite(self):\n",
    "        \n",
    "        pageOne = (self.soup.find_all('div',class_='_3O0U0u'))\n",
    "        for item in pageOne:\n",
    "            Name = item.find('img',class_ ='_1Nyybr')['alt']\n",
    "            price = item.find('div',class_='_1vC4OE _2rQ-NK')\n",
    "            details = item.find_all(\"li\")\n",
    "            storage = details[0].text\n",
    "            screen_size = details[1].text\n",
    "            camera_details = details[2].text\n",
    "            battery_details =details[3].text\n",
    "            processor = details[4].text\n",
    "            price = price.text[1:]\n",
    "            self.mycsv.writerow({\"Name\":Name, \"Storage_details\":storage, \"Screen_size\":screen_size, \"Camera_details\":camera_details,\"Battery_details\":battery_details, \"Processor\":processor, \"Price in Rupees\":price})\n",
    "        \n",
    "     \n",
    "    def freeResources(self):\n",
    "        \n",
    "        self.driver.quit()\n",
    "        self.file_csv.close()\n",
    "        \n",
    "        \n",
    "if __name__==\"__main__\":\n",
    "    \n",
    "    Scraper=Scraper()\n",
    "    Scraper.search()\n",
    "    Scraper.create_csv_file()\n",
    "    Scraper.scrapeSite()\n",
    "    Scraper.freeResources()\n",
    "    print(\"Task completed\")\n",
    "        "
   ]
  },
  {
   "cell_type": "code",
   "execution_count": null,
   "metadata": {},
   "outputs": [],
   "source": []
  },
  {
   "cell_type": "code",
   "execution_count": null,
   "metadata": {},
   "outputs": [],
   "source": []
  }
 ],
 "metadata": {
  "kernelspec": {
   "display_name": "Python 3",
   "language": "python",
   "name": "python3"
  },
  "language_info": {
   "codemirror_mode": {
    "name": "ipython",
    "version": 3
   },
   "file_extension": ".py",
   "mimetype": "text/x-python",
   "name": "python",
   "nbconvert_exporter": "python",
   "pygments_lexer": "ipython3",
   "version": "3.7.2"
  }
 },
 "nbformat": 4,
 "nbformat_minor": 2
}
